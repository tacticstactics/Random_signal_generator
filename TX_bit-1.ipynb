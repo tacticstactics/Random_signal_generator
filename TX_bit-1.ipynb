{
 "cells": [
  {
   "cell_type": "code",
   "execution_count": 31,
   "metadata": {},
   "outputs": [
    {
     "name": "stdout",
     "output_type": "stream",
     "text": [
      "[ 0.  1.  2.  3.  4.  5.  6.  7.  8.  9. 10. 11. 12. 13. 14. 15. 16. 17.\n",
      " 18. 19. 20.]\n",
      "TX_bit: [39 37  0 ... 48 30  3]\n",
      "1200\n",
      "39\n",
      "0b100111\n",
      "37\n",
      "0b100101\n"
     ]
    }
   ],
   "source": [
    "import numpy as np\n",
    "import matplotlib.pyplot as plt\n",
    "\n",
    "# 送信側アンテナ数\n",
    "M = 1\n",
    "\n",
    "# 送信ビット数\n",
    "#bit_num = 12 * 10 ** 5\n",
    "bit_num = 12 * 10 ** 2\n",
    "\n",
    "EbNo_min = 0\n",
    "EbNo_max = 20\n",
    "freq = 21\n",
    "power_range = np.linspace(EbNo_min, EbNo_max, freq)\n",
    "print(power_range)\n",
    "\n",
    "#for EbNo in power_range:\n",
    "\n",
    "TX_bit = np.random.randint(0, 64, (bit_num))\n",
    "#TX_bit = np.random.randint(0, 64, (M, bit_num))\n",
    "\n",
    "\n",
    "print('TX_bit:', TX_bit)\n",
    "print(np.size(TX_bit))\n",
    "\n",
    "binary_representation0 = bin(TX_bit[0])\n",
    "\n",
    "print(TX_bit[0])\n",
    "print(binary_representation0)\n",
    "\n",
    "#binary_representation = bin(TX_bit)\n",
    "\n",
    "binary_representation1 = bin(TX_bit[1])\n",
    "print(TX_bit[1])\n",
    "print(binary_representation1)\n",
    "\n",
    "\n",
    "#fig1 = plt.figure(figsize = (7,3), facecolor='lightblue')\n",
    "#ax1_1 = fig1.add_subplot(1, 1, 1)\n",
    "#ax1_1.set_title(\"Pseudo Random Binary Signal\")\n",
    "#ax1_1.plot(TX_bit, \".-\")\n",
    "\n"
   ]
  },
  {
   "cell_type": "code",
   "execution_count": 32,
   "metadata": {},
   "outputs": [
    {
     "name": "stdout",
     "output_type": "stream",
     "text": [
      "The String Representation is: Hello World!\n",
      "The Binary_converted Representation is: 1001000110010111011001101100110111110000010101111101111111001011011001100100100001\n",
      "TX_bit: [1001000110010111011001101100110111110000010101111101111111001011011001100100100001]\n",
      "1\n"
     ]
    }
   ],
   "source": [
    "string1 = \"Hello World!\"\n",
    "binary_converted = \"\".join(format(ord(c), \"b\") for c in string1)\n",
    "print(\"The String Representation is:\", string1)\n",
    "print(\"The Binary_converted Representation is:\", binary_converted)\n",
    "\n",
    "TX_bit = [int(binary_converted)]\n",
    "\n",
    "print('TX_bit:', TX_bit)\n",
    "print(np.size(TX_bit))\n",
    "\n",
    "\n",
    "#fig2 = plt.figure(figsize = (7,3), facecolor='lightblue')\n",
    "#ax2_1 = fig2.add_subplot(1, 1, 1)\n",
    "#ax2_1.plot(TX_bit, \".-\")\n"
   ]
  },
  {
   "cell_type": "code",
   "execution_count": 33,
   "metadata": {},
   "outputs": [
    {
     "name": "stdout",
     "output_type": "stream",
     "text": [
      "[1001000110010111011001101100110111110000010101111101111111001011011001100100100001\n",
      " 1001000110010111011001101100110111110000010101111101111111001011011001100100100001]\n"
     ]
    }
   ],
   "source": [
    "repetitions1 = 2\n",
    "\n",
    "TX_voltage = np.repeat(TX_bit, repetitions1)\n",
    "\n",
    "print(TX_voltage)"
   ]
  },
  {
   "cell_type": "code",
   "execution_count": 34,
   "metadata": {},
   "outputs": [
    {
     "name": "stdout",
     "output_type": "stream",
     "text": [
      "Binary_converted : '1001000110010111011001101100110111110000010101111101111111001011011001100100100001':\n",
      "TX Analog values 1 : 11111111000000000000000011111111000000000000000000000000111111111111111100000000000000001111111100000000111111111111111111111111000000001111111111111111000000000000000011111111111111110000000011111111111111110000000000000000111111111111111100000000111111111111111111111111111111111111111100000000000000000000000000000000000000001111111100000000111111110000000011111111111111111111111111111111111111110000000011111111111111111111111111111111111111111111111111111111000000000000000011111111000000001111111111111111000000001111111111111111000000000000000011111111111111110000000000000000111111110000000000000000111111110000000000000000000000000000000011111111\n"
     ]
    }
   ],
   "source": [
    "def convert_pattern(pattern):\n",
    "    # Define a mapping from symbols to analog values\n",
    "    symbol_to_value = {\n",
    "        '0': '00000000',\n",
    "        '1': '11111111'\n",
    "    }\n",
    "    \n",
    "    # Convert the symbol pattern to analog values\n",
    "    TX_analog_values = ''.join([symbol_to_value.get(symbol, '') for symbol in pattern])\n",
    "    \n",
    "    return TX_analog_values\n",
    "\n",
    "# Example usage\n",
    "\n",
    "TX_analog_values1 = convert_pattern(binary_converted)\n",
    "print(f\"Binary_converted : '{binary_converted}':\")\n",
    "print(f\"TX Analog values 1 : {TX_analog_values1}\")\n"
   ]
  },
  {
   "cell_type": "code",
   "execution_count": 35,
   "metadata": {},
   "outputs": [
    {
     "name": "stdout",
     "output_type": "stream",
     "text": [
      "0\n",
      "0b0\n",
      "2\n",
      "0b10\n"
     ]
    }
   ],
   "source": [
    "TX_bit = [0,2,4,8,16,32,64]\n",
    "\n",
    "binary_representation0 = bin(TX_bit[0])\n",
    "print(TX_bit[0])\n",
    "print(binary_representation0)\n",
    "\n",
    "binary_representation1 = bin(TX_bit[1])\n",
    "print(TX_bit[1])\n",
    "print(binary_representation1)\n"
   ]
  }
 ],
 "metadata": {
  "kernelspec": {
   "display_name": "base",
   "language": "python",
   "name": "python3"
  },
  "language_info": {
   "codemirror_mode": {
    "name": "ipython",
    "version": 3
   },
   "file_extension": ".py",
   "mimetype": "text/x-python",
   "name": "python",
   "nbconvert_exporter": "python",
   "pygments_lexer": "ipython3",
   "version": "3.12.4"
  }
 },
 "nbformat": 4,
 "nbformat_minor": 2
}
