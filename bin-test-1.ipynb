{
 "cells": [
  {
   "cell_type": "code",
   "execution_count": 1,
   "metadata": {},
   "outputs": [
    {
     "name": "stdout",
     "output_type": "stream",
     "text": [
      "0\n",
      "0b0\n",
      "2\n",
      "0b10\n"
     ]
    }
   ],
   "source": [
    "import numpy as np\n",
    "import matplotlib.pyplot as plt\n",
    "\n",
    "TX_bit = [0,2,4,8,16,32,64]\n",
    "\n",
    "binary_representation0 = bin(TX_bit[0])\n",
    "print(TX_bit[0])\n",
    "print(binary_representation0)\n",
    "\n",
    "binary_representation1 = bin(TX_bit[1])\n",
    "print(TX_bit[1])\n",
    "print(binary_representation1)"
   ]
  }
 ],
 "metadata": {
  "kernelspec": {
   "display_name": "base",
   "language": "python",
   "name": "python3"
  },
  "language_info": {
   "codemirror_mode": {
    "name": "ipython",
    "version": 3
   },
   "file_extension": ".py",
   "mimetype": "text/x-python",
   "name": "python",
   "nbconvert_exporter": "python",
   "pygments_lexer": "ipython3",
   "version": "3.12.4"
  }
 },
 "nbformat": 4,
 "nbformat_minor": 2
}
