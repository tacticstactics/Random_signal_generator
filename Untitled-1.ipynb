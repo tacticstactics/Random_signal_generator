{
 "cells": [
  {
   "cell_type": "code",
   "execution_count": 3,
   "metadata": {},
   "outputs": [
    {
     "name": "stdout",
     "output_type": "stream",
     "text": [
      "binary_converted_2 is: 0b1001000 0b1100101 0b1101100 0b1101100 0b1101111 0b101100 0b100000 0b1010111 0b1101111 0b1110010 0b1101100 0b1100100 0b100001\n",
      "<class 'str'>\n",
      "Length of binary_converted_2 is:  126\n"
     ]
    }
   ],
   "source": [
    "input_string_1 = \"Hello, World!\"\n",
    "\n",
    "binary_converted_2 = ' '.join(map(bin,bytearray(input_string_1,'utf8')))\n",
    "print(\"binary_converted_2 is:\", binary_converted_2)\n",
    "print(type(binary_converted_2))\n",
    "lengthofbinary_converted_2 = len(binary_converted_2)\n",
    "print('Length of binary_converted_2 is: ', lengthofbinary_converted_2)"
   ]
  },
  {
   "cell_type": "code",
   "execution_count": 4,
   "metadata": {},
   "outputs": [
    {
     "name": "stdout",
     "output_type": "stream",
     "text": [
      "binary_converted_1 is: 1001000110010111011001101100110111110110010000010101111101111111001011011001100100100001\n",
      "<class 'str'>\n",
      "Length of binary_converted_1 is:  88\n"
     ]
    }
   ],
   "source": [
    "binary_converted_1 = \"\".join(format(ord(i), \"b\") for i in input_string_1)\n",
    "print(\"binary_converted_1 is:\", binary_converted_1)\n",
    "print(type(binary_converted_1))\n",
    "lengthofbinary_converted_1 = len(binary_converted_1)\n",
    "print('Length of binary_converted_1 is: ', lengthofbinary_converted_1)"
   ]
  }
 ],
 "metadata": {
  "kernelspec": {
   "display_name": "base",
   "language": "python",
   "name": "python3"
  },
  "language_info": {
   "codemirror_mode": {
    "name": "ipython",
    "version": 3
   },
   "file_extension": ".py",
   "mimetype": "text/x-python",
   "name": "python",
   "nbconvert_exporter": "python",
   "pygments_lexer": "ipython3",
   "version": "3.12.4"
  }
 },
 "nbformat": 4,
 "nbformat_minor": 2
}
