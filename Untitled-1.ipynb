{
 "cells": [
  {
   "cell_type": "code",
   "execution_count": 4,
   "metadata": {},
   "outputs": [
    {
     "name": "stdout",
     "output_type": "stream",
     "text": [
      "binary_converted_2 is: 0b1001000 0b1100101 0b1101100 0b1101100 0b1101111 0b101100 0b100000 0b1010111 0b1101111 0b1110010 0b1101100 0b1100100 0b100001\n",
      "<class 'str'>\n",
      "Length of binary_converted_2 is:  126\n"
     ]
    }
   ],
   "source": [
    "input_string_1 = \"Hello, World!\"\n",
    "\n",
    "binary_converted_2 = ' '.join(map(bin,bytearray(input_string_1,'utf8')))\n",
    "print(\"binary_converted_2 is:\", binary_converted_2)\n",
    "print(type(binary_converted_2))\n",
    "lengthofbinary_converted_2 = len(binary_converted_2)\n",
    "print('Length of binary_converted_2 is: ', lengthofbinary_converted_2)"
   ]
  },
  {
   "cell_type": "code",
   "execution_count": 5,
   "metadata": {},
   "outputs": [
    {
     "name": "stdout",
     "output_type": "stream",
     "text": [
      "binary_converted_1 is: 1001000110010111011001101100110111110110010000010101111101111111001011011001100100100001\n",
      "<class 'str'>\n",
      "Length of binary_converted_1 is:  88\n"
     ]
    }
   ],
   "source": [
    "binary_converted_1 = \"\".join(format(ord(i), \"b\") for i in input_string_1)\n",
    "print(\"binary_converted_1 is:\", binary_converted_1)\n",
    "print(type(binary_converted_1))\n",
    "lengthofbinary_converted_1 = len(binary_converted_1)\n",
    "print('Length of binary_converted_1 is: ', lengthofbinary_converted_1)"
   ]
  },
  {
   "cell_type": "code",
   "execution_count": 6,
   "metadata": {},
   "outputs": [
    {
     "name": "stdout",
     "output_type": "stream",
     "text": [
      "input_strig_1 is: 0101\n",
      "Replaced string_1 is: 00000000111111110000000011111111\n"
     ]
    }
   ],
   "source": [
    "def replace_string(pattern):\n",
    "    # Define a mapping from symbols to analog values\n",
    "    symbol_to_value = {\n",
    "        '0': '00000000',\n",
    "        '1': '11111111'\n",
    "    }\n",
    "    \n",
    "    # Convert the symbol pattern to analog values\n",
    "    converted_string = ''.join([symbol_to_value.get(symbol, '') for symbol in pattern])\n",
    "    \n",
    "    return converted_string\n",
    "\n",
    "# Example usage\n",
    "input_string_1 = \"0101\"\n",
    "print('input_strig_1 is:', input_string_1)\n",
    "replaced_string_1 = replace_string(input_string_1)\n",
    "print('Replaced string_1 is:', replaced_string_1)"
   ]
  },
  {
   "cell_type": "code",
   "execution_count": null,
   "metadata": {},
   "outputs": [],
   "source": [
    "#def string_to_binary(input_string):\n",
    "#    # Convert each character to its binary representation\n",
    "#    binary_result = ''.join(format(ord(char), '08b') for char in input_string)\n",
    "#    return binary_result\n",
    "\n",
    "# Example usage\n",
    "#input_string_1 = \"Hello, World!\"\n",
    "#print(\"The String Representation is:\", input_string_1)\n",
    "\n",
    "#binary_string = string_to_binary(input_string_1)\n",
    "#print(f\"Binary representation of '{input_string_1}' is : {binary_string}\")\n",
    "#print(type(binary_string))\n",
    "#print('Length of binary_converted_3 is: ', len(binary_string))"
   ]
  },
  {
   "cell_type": "code",
   "execution_count": 7,
   "metadata": {},
   "outputs": [
    {
     "name": "stdout",
     "output_type": "stream",
     "text": [
      "['あ', 'い', 'う', 'え', 'お']\n",
      "['あ', 'い', 'う', 'え', 'お']\n"
     ]
    }
   ],
   "source": [
    "s = 'あいうえお'\n",
    "print(list(s)) \n",
    "print([i for i in s])"
   ]
  },
  {
   "cell_type": "code",
   "execution_count": 8,
   "metadata": {},
   "outputs": [
    {
     "name": "stdout",
     "output_type": "stream",
     "text": [
      "あいうえお\n",
      "あいうえお\n"
     ]
    }
   ],
   "source": [
    "print(''.join(['あ', 'い', 'う', 'え', 'お']))\n",
    "print(*['あ', 'い', 'う', 'え', 'お'], sep='')"
   ]
  },
  {
   "cell_type": "code",
   "execution_count": null,
   "metadata": {},
   "outputs": [],
   "source": [
    "n = [1, 2, 3, 4, 5]\n",
    "print(''.join([str(i) for i in n]))\n",
    "print(*[str(i) for i in n], sep='')"
   ]
  }
 ],
 "metadata": {
  "kernelspec": {
   "display_name": "base",
   "language": "python",
   "name": "python3"
  },
  "language_info": {
   "codemirror_mode": {
    "name": "ipython",
    "version": 3
   },
   "file_extension": ".py",
   "mimetype": "text/x-python",
   "name": "python",
   "nbconvert_exporter": "python",
   "pygments_lexer": "ipython3",
   "version": "3.12.4"
  }
 },
 "nbformat": 4,
 "nbformat_minor": 2
}
