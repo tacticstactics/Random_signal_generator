{
 "cells": [
  {
   "cell_type": "code",
   "execution_count": 1,
   "metadata": {},
   "outputs": [
    {
     "name": "stdout",
     "output_type": "stream",
     "text": [
      "TX_bit: [37 55 18 ...  0 43 54]\n",
      "1200\n",
      "37\n",
      "0b100101\n",
      "55\n",
      "0b110111\n"
     ]
    }
   ],
   "source": [
    "import numpy as np\n",
    "import matplotlib.pyplot as plt\n",
    "\n",
    "# 送信側アンテナ数\n",
    "M = 1\n",
    "\n",
    "# 送信ビット数\n",
    "#bit_num = 12 * 10 ** 5\n",
    "bit_num = 12 * 10 ** 2\n",
    "\n",
    "EbNo_min = 0\n",
    "EbNo_max = 20\n",
    "freq = 21\n",
    "power_range = np.linspace(EbNo_min, EbNo_max, freq)\n",
    "#print(power_range)\n",
    "\n",
    "#for EbNo in power_range:\n",
    "\n",
    "TX_bit = np.random.randint(0, 64, (bit_num))\n",
    "#TX_bit = np.random.randint(0, 64, (M, bit_num))\n",
    "\n",
    "\n",
    "print('TX_bit:', TX_bit)\n",
    "print(np.size(TX_bit))\n",
    "\n",
    "binary_representation0 = bin(TX_bit[0])\n",
    "\n",
    "print(TX_bit[0])\n",
    "print(binary_representation0)\n",
    "\n",
    "#binary_representation = bin(TX_bit)\n",
    "\n",
    "binary_representation1 = bin(TX_bit[1])\n",
    "print(TX_bit[1])\n",
    "print(binary_representation1)\n",
    "\n",
    "\n",
    "#fig1 = plt.figure(figsize = (7,3), facecolor='lightblue')\n",
    "#ax1_1 = fig1.add_subplot(1, 1, 1)\n",
    "#ax1_1.set_title(\"Pseudo Random Binary Signal\")\n",
    "#ax1_1.plot(TX_bit, \".-\")\n"
   ]
  },
  {
   "cell_type": "code",
   "execution_count": 2,
   "metadata": {},
   "outputs": [
    {
     "name": "stdout",
     "output_type": "stream",
     "text": [
      "[37 37 55 ... 43 54 54]\n"
     ]
    }
   ],
   "source": [
    "# Just only repeat a pattern\n",
    "repetitions1 = 2\n",
    "\n",
    "TX_voltage = np.repeat(TX_bit, repetitions1)\n",
    "\n",
    "print(TX_voltage)"
   ]
  }
 ],
 "metadata": {
  "kernelspec": {
   "display_name": "base",
   "language": "python",
   "name": "python3"
  },
  "language_info": {
   "codemirror_mode": {
    "name": "ipython",
    "version": 3
   },
   "file_extension": ".py",
   "mimetype": "text/x-python",
   "name": "python",
   "nbconvert_exporter": "python",
   "pygments_lexer": "ipython3",
   "version": "3.12.4"
  }
 },
 "nbformat": 4,
 "nbformat_minor": 2
}
