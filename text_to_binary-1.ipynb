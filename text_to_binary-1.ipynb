{
 "cells": [
  {
   "cell_type": "code",
   "execution_count": 13,
   "metadata": {},
   "outputs": [],
   "source": [
    "import numpy as np\n",
    "import matplotlib.pyplot as plt\n"
   ]
  },
  {
   "cell_type": "code",
   "execution_count": 14,
   "metadata": {},
   "outputs": [
    {
     "name": "stdout",
     "output_type": "stream",
     "text": [
      "Binary representation of 'Hello, World!': 01001000 01100101 01101100 01101100 01101111 00101100 00100000 01010111 01101111 01110010 01101100 01100100 00100001\n"
     ]
    }
   ],
   "source": [
    "def string_to_binary(input_string):\n",
    "    # Convert each character to its binary representation\n",
    "    binary_result = ' '.join(format(ord(char), '08b') for char in input_string)\n",
    "    return binary_result\n",
    "\n",
    "# Example usage\n",
    "input_string = \"Hello, World!\"\n",
    "binary_string = string_to_binary(input_string)\n",
    "print(f\"Binary representation of '{input_string}': {binary_string}\")\n",
    "\n",
    "\n"
   ]
  },
  {
   "cell_type": "code",
   "execution_count": 15,
   "metadata": {},
   "outputs": [
    {
     "name": "stdout",
     "output_type": "stream",
     "text": [
      "01001000 01100101 01101100 01101100 01101111 00101100 00100000 01010111 01101111 01110010 01101100 01100100 00100001\n",
      "['01001000', '01100101', '01101100', '01101100', '01101111', '00101100', '00100000', '01010111', '01101111', '01110010', '01101100', '01100100', '00100001']\n",
      "Original string: Hello, World!\n"
     ]
    }
   ],
   "source": [
    "def binary_to_string(binary_string):\n",
    "    print(binary_string)\n",
    "    # Split the binary string into individual binary codes\n",
    "    binary_values = binary_string.split()\n",
    "    print(binary_values)\n",
    "    # Convert each binary code to the corresponding character\n",
    "    ascii_characters = [chr(int(b, 2)) for b in binary_values]\n",
    "    # Join the characters to form the original string\n",
    "    original_string = ''.join(ascii_characters)\n",
    "    return original_string\n",
    "\n",
    "# Example usage\n",
    "binary_string = \"01001000 01100101 01101100 01101100 01101111 00101100 00100000 01010111 01101111 01110010 01101100 01100100 00100001\"\n",
    "original_string = binary_to_string(binary_string)\n",
    "print(f\"Original string: {original_string}\")\n"
   ]
  },
  {
   "cell_type": "code",
   "execution_count": 16,
   "metadata": {},
   "outputs": [
    {
     "name": "stdout",
     "output_type": "stream",
     "text": [
      "The String Representation is: Hello World!\n",
      "The Binary_converted Representation is: 1001000110010111011001101100110111110000010101111101111111001011011001100100100001\n",
      "TX_bit: [1001000110010111011001101100110111110000010101111101111111001011011001100100100001]\n"
     ]
    }
   ],
   "source": [
    "\n",
    "\n",
    "string1 = \"Hello World!\"\n",
    "print(\"The String Representation is:\", string1)\n",
    "\n",
    "binary_converted = \"\".join(format(ord(c), \"b\") for c in string1)\n",
    "print(\"The Binary_converted Representation is:\", binary_converted)\n",
    "\n",
    "TX_bit = [int(binary_converted)]\n",
    "\n",
    "print('TX_bit:', TX_bit)\n",
    "#print(np.size(TX_bit))\n"
   ]
  },
  {
   "cell_type": "code",
   "execution_count": 17,
   "metadata": {},
   "outputs": [],
   "source": [
    "def convert_string(pattern):\n",
    "    # Define a mapping from symbols to analog values\n",
    "    symbol_to_value = {\n",
    "        '0': '00000000',\n",
    "        '1': '11111111'\n",
    "    }\n",
    "    \n",
    "    # Convert the symbol pattern to analog values\n",
    "    converted_string = ''.join([symbol_to_value.get(symbol, '') for symbol in pattern])\n",
    "    \n",
    "    return converted_string\n",
    "\n"
   ]
  },
  {
   "cell_type": "code",
   "execution_count": 18,
   "metadata": {},
   "outputs": [
    {
     "name": "stdout",
     "output_type": "stream",
     "text": [
      "Binary_converted : '1001000110010111011001101100110111110000010101111101111111001011011001100100100001':\n",
      "TX Analog values 1 : [1001000110010111011001101100110111110000010101111101111111001011011001100100100001\n",
      " 1001000110010111011001101100110111110000010101111101111111001011011001100100100001\n",
      " 1001000110010111011001101100110111110000010101111101111111001011011001100100100001\n",
      " 1001000110010111011001101100110111110000010101111101111111001011011001100100100001\n",
      " 1001000110010111011001101100110111110000010101111101111111001011011001100100100001\n",
      " 1001000110010111011001101100110111110000010101111101111111001011011001100100100001\n",
      " 1001000110010111011001101100110111110000010101111101111111001011011001100100100001\n",
      " 1001000110010111011001101100110111110000010101111101111111001011011001100100100001\n",
      " 1001000110010111011001101100110111110000010101111101111111001011011001100100100001\n",
      " 1001000110010111011001101100110111110000010101111101111111001011011001100100100001\n",
      " 1001000110010111011001101100110111110000010101111101111111001011011001100100100001\n",
      " 1001000110010111011001101100110111110000010101111101111111001011011001100100100001\n",
      " 1001000110010111011001101100110111110000010101111101111111001011011001100100100001\n",
      " 1001000110010111011001101100110111110000010101111101111111001011011001100100100001\n",
      " 1001000110010111011001101100110111110000010101111101111111001011011001100100100001\n",
      " 1001000110010111011001101100110111110000010101111101111111001011011001100100100001]\n"
     ]
    },
    {
     "data": {
      "text/plain": [
       "[<matplotlib.lines.Line2D at 0x223edc38380>]"
      ]
     },
     "execution_count": 18,
     "metadata": {},
     "output_type": "execute_result"
    },
    {
     "data": {
      "image/png": "[encoded data removed]",
      "text/plain": [
       "<Figure size 700x300 with 1 Axes>"
      ]
     },
     "metadata": {},
     "output_type": "display_data"
    }
   ],
   "source": [
    "# Example usage\n",
    "\n",
    "samplerate = 2 ** 10\n",
    "numberofpointspersymbol = 2 ** 6\n",
    "repetitions1 = samplerate / numberofpointspersymbol\n",
    "\n",
    "TX_analog_values1 = np.repeat(TX_bit, repetitions1)\n",
    "\n",
    "\n",
    "print(f\"Binary_converted : '{binary_converted}':\")\n",
    "print(f\"TX Analog values 1 : {TX_analog_values1}\")\n",
    "\n",
    "#TX_analog_float1 = [int(TX_analog_values1)]\n",
    "\n",
    "#print(TX_analog_float1)\n",
    "\n",
    "fig1 = plt.figure(figsize = (7,3), facecolor='lightblue')\n",
    "ax1_1 = fig1.add_subplot(1, 1, 1)\n",
    "ax1_1.plot(TX_analog_values1, \"-\")\n"
   ]
  }
 ],
 "metadata": {
  "kernelspec": {
   "display_name": "base",
   "language": "python",
   "name": "python3"
  },
  "language_info": {
   "codemirror_mode": {
    "name": "ipython",
    "version": 3
   },
   "file_extension": ".py",
   "mimetype": "text/x-python",
   "name": "python",
   "nbconvert_exporter": "python",
   "pygments_lexer": "ipython3",
   "version": "3.12.4"
  }
 },
 "nbformat": 4,
 "nbformat_minor": 2
}
