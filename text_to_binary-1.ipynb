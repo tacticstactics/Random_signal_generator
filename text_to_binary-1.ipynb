{
 "cells": [
  {
   "cell_type": "code",
   "execution_count": 71,
   "metadata": {},
   "outputs": [],
   "source": [
    "import numpy as np\n",
    "import matplotlib.pyplot as plt\n"
   ]
  },
  {
   "cell_type": "code",
   "execution_count": 72,
   "metadata": {},
   "outputs": [
    {
     "name": "stdout",
     "output_type": "stream",
     "text": [
      "Binary representation of 'Hello, World!' is : 01001000 01100101 01101100 01101100 01101111 00101100 00100000 01010111 01101111 01110010 01101100 01100100 00100001\n"
     ]
    }
   ],
   "source": [
    "def string_to_binary(input_string):\n",
    "    # Convert each character to its binary representation\n",
    "    binary_result = ' '.join(format(ord(char), '08b') for char in input_string)\n",
    "    return binary_result\n",
    "\n",
    "# Example usage\n",
    "input_string = \"Hello, World!\"\n",
    "binary_string = string_to_binary(input_string)\n",
    "print(f\"Binary representation of '{input_string}' is : {binary_string}\")\n"
   ]
  },
  {
   "cell_type": "code",
   "execution_count": 73,
   "metadata": {},
   "outputs": [
    {
     "name": "stdout",
     "output_type": "stream",
     "text": [
      "01001000 01100101 01101100 01101100 01101111 00101100 00100000 01010111 01101111 01110010 01101100 01100100 00100001\n",
      "['01001000', '01100101', '01101100', '01101100', '01101111', '00101100', '00100000', '01010111', '01101111', '01110010', '01101100', '01100100', '00100001']\n",
      "Original string: Hello, World!\n"
     ]
    }
   ],
   "source": [
    "def binary_to_string(binary_string):\n",
    "    print(binary_string)\n",
    "    # Split the binary string into individual binary codes\n",
    "    binary_values = binary_string.split()\n",
    "    print(binary_values)\n",
    "    # Convert each binary code to the corresponding character\n",
    "    ascii_characters = [chr(int(b, 2)) for b in binary_values]\n",
    "    # Join the characters to form the original string\n",
    "    original_string = ''.join(ascii_characters)\n",
    "    return original_string\n",
    "\n",
    "# Example usage\n",
    "binary_string = \"01001000 01100101 01101100 01101100 01101111 00101100 00100000 01010111 01101111 01110010 01101100 01100100 00100001\"\n",
    "original_string = binary_to_string(binary_string)\n",
    "print(f\"Original string: {original_string}\")\n"
   ]
  },
  {
   "cell_type": "code",
   "execution_count": null,
   "metadata": {},
   "outputs": [
    {
     "name": "stdout",
     "output_type": "stream",
     "text": [
      "The String Representation is: Hello!\n",
      "binary_converted is: 10010001100101110110011011001101111100001\n",
      "binary_converted_2 is: 1 0 0 1 0 0 0 1 1 0 0 1 0 1 1 1 0 1 1 0 0 1 1 0 1 1 0 0 1 1 0 1 1 1 1 1 0 0 0 0 1\n"
     ]
    },
    {
     "ename": "TypeError",
     "evalue": "can only join an iterable",
     "output_type": "error",
     "traceback": [
      "\u001b[1;31m---------------------------------------------------------------------------\u001b[0m",
      "\u001b[1;31mTypeError\u001b[0m                                 Traceback (most recent call last)",
      "Cell \u001b[1;32mIn[74], line 13\u001b[0m\n\u001b[0;32m     10\u001b[0m \u001b[38;5;28mprint\u001b[39m(\u001b[38;5;124m\"\u001b[39m\u001b[38;5;124mbinary_converted_2 is:\u001b[39m\u001b[38;5;124m\"\u001b[39m, binary_converted_2)\n\u001b[0;32m     12\u001b[0m TX_bit \u001b[38;5;241m=\u001b[39m \u001b[38;5;28mint\u001b[39m(binary_converted)\n\u001b[1;32m---> 13\u001b[0m number_converted_2 \u001b[38;5;241m=\u001b[39m \u001b[38;5;124m\"\u001b[39m\u001b[38;5;124m \u001b[39m\u001b[38;5;124m\"\u001b[39m\u001b[38;5;241m.\u001b[39mjoin(TX_bit)\n\u001b[0;32m     16\u001b[0m \u001b[38;5;28mprint\u001b[39m(\u001b[38;5;124m'\u001b[39m\u001b[38;5;124mTX_bit:\u001b[39m\u001b[38;5;124m'\u001b[39m, TX_bit)\n",
      "\u001b[1;31mTypeError\u001b[0m: can only join an iterable"
     ]
    }
   ],
   "source": [
    "\n",
    "\n",
    "string1 = \"Hello!\"\n",
    "print(\"The String Representation is:\", string1)\n",
    "\n",
    "binary_converted = \"\".join(format(ord(c), \"b\") for c in string1)\n",
    "print(\"binary_converted is:\", binary_converted)\n",
    "\n",
    "TX_bit = int(binary_converted)\n",
    "\n",
    "binary_converted_2 = \" \".join(binary_converted)\n",
    "print(\"binary_converted_2 is:\", binary_converted_2)\n",
    "\n",
    "\n",
    "\n",
    "\n",
    "print('TX_bit:', TX_bit)\n",
    "#print(np.size(TX_bit))\n"
   ]
  },
  {
   "cell_type": "code",
   "execution_count": null,
   "metadata": {},
   "outputs": [],
   "source": [
    "def convert_string(pattern):\n",
    "    # Define a mapping from symbols to analog values\n",
    "    symbol_to_value = {\n",
    "        '0': '00000000',\n",
    "        '1': '11111111'\n",
    "    }\n",
    "    \n",
    "    # Convert the symbol pattern to analog values\n",
    "    converted_string = ''.join([symbol_to_value.get(symbol, '') for symbol in pattern])\n",
    "    \n",
    "    return converted_string\n",
    "\n"
   ]
  },
  {
   "cell_type": "code",
   "execution_count": null,
   "metadata": {},
   "outputs": [],
   "source": [
    "# Example usage\n",
    "\n",
    "samplerate = 2 ** 10\n",
    "numberofpointspersymbol = 2 ** 6\n",
    "repetitions1 = samplerate / numberofpointspersymbol\n",
    "\n",
    "TX_analog_values1 = np.repeat(TX_bit, repetitions1)\n",
    "\n",
    "\n",
    "print(f\"Binary_converted : '{binary_converted}':\")\n",
    "print(f\"TX Analog values 1 : {TX_analog_values1}\")\n",
    "\n",
    "#TX_analog_float1 = [int(TX_analog_values1)]\n",
    "\n",
    "#print(TX_analog_float1)\n",
    "\n",
    "fig1 = plt.figure(figsize = (7,3), facecolor='lightblue')\n",
    "ax1_1 = fig1.add_subplot(1, 1, 1)\n",
    "ax1_1.plot(TX_analog_values1, \"-\")\n"
   ]
  }
 ],
 "metadata": {
  "kernelspec": {
   "display_name": "base",
   "language": "python",
   "name": "python3"
  },
  "language_info": {
   "codemirror_mode": {
    "name": "ipython",
    "version": 3
   },
   "file_extension": ".py",
   "mimetype": "text/x-python",
   "name": "python",
   "nbconvert_exporter": "python",
   "pygments_lexer": "ipython3",
   "version": "3.12.4"
  }
 },
 "nbformat": 4,
 "nbformat_minor": 2
}
