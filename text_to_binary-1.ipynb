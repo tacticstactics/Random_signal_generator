{
 "cells": [
  {
   "cell_type": "code",
   "execution_count": 14,
   "metadata": {},
   "outputs": [],
   "source": [
    "import numpy as np\n",
    "import matplotlib.pyplot as plt\n"
   ]
  },
  {
   "cell_type": "code",
   "execution_count": 15,
   "metadata": {},
   "outputs": [
    {
     "name": "stdout",
     "output_type": "stream",
     "text": [
      "Binary representation of 'Hello, World!': 01001000 01100101 01101100 01101100 01101111 00101100 00100000 01010111 01101111 01110010 01101100 01100100 00100001\n"
     ]
    }
   ],
   "source": [
    "def string_to_binary(input_string):\n",
    "    # Convert each character to its binary representation\n",
    "    binary_result = ' '.join(format(ord(char), '08b') for char in input_string)\n",
    "    return binary_result\n",
    "\n",
    "# Example usage\n",
    "input_string = \"Hello, World!\"\n",
    "binary_string = string_to_binary(input_string)\n",
    "print(f\"Binary representation of '{input_string}': {binary_string}\")\n",
    "\n",
    "\n"
   ]
  },
  {
   "cell_type": "code",
   "execution_count": 16,
   "metadata": {},
   "outputs": [
    {
     "name": "stdout",
     "output_type": "stream",
     "text": [
      "Original string: Hello, World!\n"
     ]
    }
   ],
   "source": [
    "def binary_to_string(binary_string):\n",
    "    # Split the binary string into individual binary codes\n",
    "    binary_values = binary_string.split()\n",
    "    # Convert each binary code to the corresponding character\n",
    "    ascii_characters = [chr(int(b, 2)) for b in binary_values]\n",
    "    # Join the characters to form the original string\n",
    "    original_string = ''.join(ascii_characters)\n",
    "    return original_string\n",
    "\n",
    "# Example usage\n",
    "binary_string = \"01001000 01100101 01101100 01101100 01101111 00101100 00100000 01010111 01101111 01110010 01101100 01100100 00100001\"\n",
    "original_string = binary_to_string(binary_string)\n",
    "print(f\"Original string: {original_string}\")\n"
   ]
  },
  {
   "cell_type": "code",
   "execution_count": 17,
   "metadata": {},
   "outputs": [
    {
     "name": "stdout",
     "output_type": "stream",
     "text": [
      "The String Representation is: Hello World!\n",
      "The Binary_converted Representation is: 1001000 1100101 1101100 1101100 1101111 100000 1010111 1101111 1110010 1101100 1100100 100001\n"
     ]
    },
    {
     "ename": "ValueError",
     "evalue": "invalid literal for int() with base 10: '1001000 1100101 1101100 1101100 1101111 100000 1010111 1101111 1110010 1101100 1100100 100001'",
     "output_type": "error",
     "traceback": [
      "\u001b[1;31m---------------------------------------------------------------------------\u001b[0m",
      "\u001b[1;31mValueError\u001b[0m                                Traceback (most recent call last)",
      "Cell \u001b[1;32mIn[17], line 7\u001b[0m\n\u001b[0;32m      4\u001b[0m binary_converted \u001b[38;5;241m=\u001b[39m \u001b[38;5;124m\"\u001b[39m\u001b[38;5;124m \u001b[39m\u001b[38;5;124m\"\u001b[39m\u001b[38;5;241m.\u001b[39mjoin(\u001b[38;5;28mformat\u001b[39m(\u001b[38;5;28mord\u001b[39m(c), \u001b[38;5;124m\"\u001b[39m\u001b[38;5;124mb\u001b[39m\u001b[38;5;124m\"\u001b[39m) \u001b[38;5;28;01mfor\u001b[39;00m c \u001b[38;5;129;01min\u001b[39;00m string1)\n\u001b[0;32m      5\u001b[0m \u001b[38;5;28mprint\u001b[39m(\u001b[38;5;124m\"\u001b[39m\u001b[38;5;124mThe Binary_converted Representation is:\u001b[39m\u001b[38;5;124m\"\u001b[39m, binary_converted)\n\u001b[1;32m----> 7\u001b[0m TX_bit \u001b[38;5;241m=\u001b[39m [\u001b[38;5;28mint\u001b[39m(binary_converted)]\n\u001b[0;32m      9\u001b[0m \u001b[38;5;28mprint\u001b[39m(\u001b[38;5;124m'\u001b[39m\u001b[38;5;124mTX_bit:\u001b[39m\u001b[38;5;124m'\u001b[39m, TX_bit)\n",
      "\u001b[1;31mValueError\u001b[0m: invalid literal for int() with base 10: '1001000 1100101 1101100 1101100 1101111 100000 1010111 1101111 1110010 1101100 1100100 100001'"
     ]
    }
   ],
   "source": [
    "\n",
    "\n",
    "string1 = \"Hello World!\"\n",
    "print(\"The String Representation is:\", string1)\n",
    "\n",
    "binary_converted = \" \".join(format(ord(c), \"b\") for c in string1)\n",
    "print(\"The Binary_converted Representation is:\", binary_converted)\n",
    "\n",
    "TX_bit = [int(binary_converted)]\n",
    "\n",
    "print('TX_bit:', TX_bit)\n",
    "#print(np.size(TX_bit))\n"
   ]
  },
  {
   "cell_type": "code",
   "execution_count": null,
   "metadata": {},
   "outputs": [],
   "source": [
    "def convert_string(pattern):\n",
    "    # Define a mapping from symbols to analog values\n",
    "    symbol_to_value = {\n",
    "        '0': '00000000',\n",
    "        '1': '11111111'\n",
    "    }\n",
    "    \n",
    "    # Convert the symbol pattern to analog values\n",
    "    converted_string = ''.join([symbol_to_value.get(symbol, '') for symbol in pattern])\n",
    "    \n",
    "    return converted_string\n",
    "\n"
   ]
  },
  {
   "cell_type": "code",
   "execution_count": null,
   "metadata": {},
   "outputs": [],
   "source": [
    "# Example usage\n",
    "\n",
    "samplerate = 2 ** 10\n",
    "numberofpointspersymbol = 2 ** 6\n",
    "repetitions1 = samplerate / numberofpointspersymbol\n",
    "\n",
    "TX_analog_values1 = np.repeat(TX_bit, repetitions1)\n",
    "\n",
    "\n",
    "print(f\"Binary_converted : '{binary_converted}':\")\n",
    "print(f\"TX Analog values 1 : {TX_analog_values1}\")\n",
    "\n",
    "#TX_analog_float1 = [int(TX_analog_values1)]\n",
    "\n",
    "#print(TX_analog_float1)\n",
    "\n",
    "fig1 = plt.figure(figsize = (7,3), facecolor='lightblue')\n",
    "ax1_1 = fig1.add_subplot(1, 1, 1)\n",
    "ax1_1.plot(TX_analog_values1, \"-\")\n"
   ]
  }
 ],
 "metadata": {
  "kernelspec": {
   "display_name": "base",
   "language": "python",
   "name": "python3"
  },
  "language_info": {
   "codemirror_mode": {
    "name": "ipython",
    "version": 3
   },
   "file_extension": ".py",
   "mimetype": "text/x-python",
   "name": "python",
   "nbconvert_exporter": "python",
   "pygments_lexer": "ipython3",
   "version": "3.12.4"
  }
 },
 "nbformat": 4,
 "nbformat_minor": 2
}
