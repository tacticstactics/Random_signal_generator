{
 "cells": [
  {
   "cell_type": "code",
   "execution_count": null,
   "metadata": {},
   "outputs": [],
   "source": [
    "import numpy as np\n",
    "import matplotlib.pyplot as plt"
   ]
  },
  {
   "cell_type": "code",
   "execution_count": null,
   "metadata": {},
   "outputs": [],
   "source": [
    "def string_to_binary(input_string):\n",
    "    # Convert each character to its binary representation\n",
    "    binary_result = ' '.join(format(ord(char), '08b') for char in input_string)\n",
    "    return binary_result\n",
    "\n",
    "# Example usage\n",
    "input_string = \"Hello, World!\"\n",
    "binary_string = string_to_binary(input_string)\n",
    "print(f\"Binary representation of '{input_string}' is : {binary_string}\")\n"
   ]
  },
  {
   "cell_type": "code",
   "execution_count": null,
   "metadata": {},
   "outputs": [],
   "source": [
    "def binary_to_string(binary_string):\n",
    "    print(binary_string)\n",
    "    # Split the binary string into individual binary codes\n",
    "    binary_values = binary_string.split()\n",
    "    print(binary_values)\n",
    "    # Convert each binary code to the corresponding character\n",
    "    ascii_characters = [chr(int(b, 2)) for b in binary_values]\n",
    "    # Join the characters to form the original string\n",
    "    original_string = ''.join(ascii_characters)\n",
    "    return original_string\n",
    "\n",
    "# Example usage\n",
    "binary_string = \"01001000 01100101 01101100 01101100 01101111 00101100 00100000 01010111 01101111 01110010 01101100 01100100 00100001\"\n",
    "original_string = binary_to_string(binary_string)\n",
    "print(f\"Original string: {original_string}\")\n"
   ]
  },
  {
   "cell_type": "code",
   "execution_count": null,
   "metadata": {},
   "outputs": [],
   "source": [
    "\n",
    "\n",
    "string1 = \"Hello!\"\n",
    "print(\"The String Representation is:\", string1)\n",
    "\n",
    "binary_converted = \"\".join(format(ord(c), \"b\") for c in string1)\n",
    "print(\"binary_converted is:\", binary_converted)\n",
    "\n",
    "TX_bit = int(binary_converted)\n",
    "\n",
    "binary_converted_2 = \" \".join(binary_converted)\n",
    "print(\"binary_converted_2 is:\", binary_converted_2)\n",
    "\n",
    "\n",
    "\n",
    "\n",
    "print('TX_bit:', TX_bit)\n",
    "#print(np.size(TX_bit))\n"
   ]
  },
  {
   "cell_type": "code",
   "execution_count": null,
   "metadata": {},
   "outputs": [],
   "source": [
    "def convert_string(pattern):\n",
    "    # Define a mapping from symbols to analog values\n",
    "    symbol_to_value = {\n",
    "        '0': '00000000',\n",
    "        '1': '11111111'\n",
    "    }\n",
    "    \n",
    "    # Convert the symbol pattern to analog values\n",
    "    converted_string = ''.join([symbol_to_value.get(symbol, '') for symbol in pattern])\n",
    "    \n",
    "    return converted_string\n",
    "\n"
   ]
  },
  {
   "cell_type": "code",
   "execution_count": null,
   "metadata": {},
   "outputs": [],
   "source": [
    "# Example usage\n",
    "\n",
    "samplerate = 2 ** 10\n",
    "numberofpointspersymbol = 2 ** 6\n",
    "repetitions1 = samplerate / numberofpointspersymbol\n",
    "\n",
    "TX_analog_values1 = np.repeat(TX_bit, repetitions1)\n",
    "\n",
    "\n",
    "print(f\"Binary_converted : '{binary_converted}':\")\n",
    "print(f\"TX Analog values 1 : {TX_analog_values1}\")\n",
    "\n",
    "#TX_analog_float1 = [int(TX_analog_values1)]\n",
    "\n",
    "#print(TX_analog_float1)\n",
    "\n",
    "fig1 = plt.figure(figsize = (7,3), facecolor='lightblue')\n",
    "ax1_1 = fig1.add_subplot(1, 1, 1)\n",
    "ax1_1.plot(TX_analog_values1, \"-\")\n"
   ]
  }
 ],
 "metadata": {
  "kernelspec": {
   "display_name": "base",
   "language": "python",
   "name": "python3"
  },
  "language_info": {
   "codemirror_mode": {
    "name": "ipython",
    "version": 3
   },
   "file_extension": ".py",
   "mimetype": "text/x-python",
   "name": "python",
   "nbconvert_exporter": "python",
   "pygments_lexer": "ipython3",
   "version": "3.12.4"
  }
 },
 "nbformat": 4,
 "nbformat_minor": 2
}
