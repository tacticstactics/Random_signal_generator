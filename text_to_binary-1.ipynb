{
 "cells": [
  {
   "cell_type": "code",
   "execution_count": 73,
   "metadata": {},
   "outputs": [],
   "source": [
    "import numpy as np\n",
    "import matplotlib.pyplot as plt"
   ]
  },
  {
   "cell_type": "code",
   "execution_count": 74,
   "metadata": {},
   "outputs": [
    {
     "name": "stdout",
     "output_type": "stream",
     "text": [
      "Replaced string_1 is: 00000000111111110000000011111111\n"
     ]
    }
   ],
   "source": [
    "def replace_string(pattern):\n",
    "    # Define a mapping from symbols to analog values\n",
    "    symbol_to_value = {\n",
    "        '0': '00000000',\n",
    "        '1': '11111111'\n",
    "    }\n",
    "    \n",
    "    # Convert the symbol pattern to analog values\n",
    "    converted_string = ''.join([symbol_to_value.get(symbol, '') for symbol in pattern])\n",
    "    \n",
    "    return converted_string\n",
    "\n",
    "# Example usage\n",
    "input_string_1 = \"0101\"\n",
    "replaced_string_1 = replace_string(input_string_1)\n",
    "print('Replaced string_1 is:', replaced_string_1)"
   ]
  },
  {
   "cell_type": "code",
   "execution_count": 75,
   "metadata": {},
   "outputs": [
    {
     "name": "stdout",
     "output_type": "stream",
     "text": [
      "Binary representation of 'Hello, World!' is : 01001000 01100101 01101100 01101100 01101111 00101100 00100000 01010111 01101111 01110010 01101100 01100100 00100001\n"
     ]
    }
   ],
   "source": [
    "def string_to_binary(input_string):\n",
    "    # Convert each character to its binary representation\n",
    "    binary_result = ' '.join(format(ord(char), '08b') for char in input_string)\n",
    "    return binary_result\n",
    "\n",
    "# Example usage\n",
    "input_string_1 = \"Hello, World!\"\n",
    "binary_string = string_to_binary(input_string_1)\n",
    "\n",
    "print(f\"Binary representation of '{input_string_1}' is : {binary_string}\")"
   ]
  },
  {
   "cell_type": "code",
   "execution_count": 76,
   "metadata": {},
   "outputs": [
    {
     "name": "stdout",
     "output_type": "stream",
     "text": [
      "01001000 01100101 01101100 01101100 01101111 00101100 00100000 01010111 01101111 01110010 01101100 01100100 00100001\n",
      "['01001000', '01100101', '01101100', '01101100', '01101111', '00101100', '00100000', '01010111', '01101111', '01110010', '01101100', '01100100', '00100001']\n",
      "regenerated_string_1: Hello, World!\n"
     ]
    }
   ],
   "source": [
    "def binary_to_string(binary_string):\n",
    "    \n",
    "    # Split the binary string into individual binary codes\n",
    "    binary_values = binary_string.split()\n",
    "    print(binary_values)\n",
    "    # Convert each binary code to the corresponding character\n",
    "    ascii_characters = [chr(int(b, 2)) for b in binary_values]\n",
    "    # Join the characters to form the original string\n",
    "    original_string = ''.join(ascii_characters)\n",
    "    return original_string\n",
    "\n",
    "# Example usage\n",
    "binary_string = \"01001000 01100101 01101100 01101100 01101111 00101100 00100000 01010111 01101111 01110010 01101100 01100100 00100001\"\n",
    "print(binary_string)\n",
    "\n",
    "regenerated_string_1 = binary_to_string(binary_string)\n",
    "print(f\"regenerated_string_1: {regenerated_string_1}\")"
   ]
  },
  {
   "cell_type": "code",
   "execution_count": 77,
   "metadata": {},
   "outputs": [
    {
     "name": "stdout",
     "output_type": "stream",
     "text": [
      "The String Representation is: Hello, World!\n",
      "binary_converted_1 is: 1001000110010111011001101100110111110110010000010101111101111111001011011001100100100001\n",
      "<class 'str'>\n",
      "[1, 0, 0, 1, 0, 0, 0, 1, 1, 0, 0, 1, 0, 1, 1, 1, 0, 1, 1, 0, 0, 1, 1, 0, 1, 1, 0, 0, 1, 1, 0, 1, 1, 1, 1, 1, 0, 1, 1, 0, 0, 1, 0, 0, 0, 0, 0, 1, 0, 1, 0, 1, 1, 1, 1, 1, 0, 1, 1, 1, 1, 1, 1, 1, 0, 0, 1, 0, 1, 1, 0, 1, 1, 0, 0, 1, 1, 0, 0, 1, 0, 0, 1, 0, 0, 0, 0, 1]\n",
      "<class 'list'>\n",
      "[1 0 0 1 0 0 0 1 1 0 0 1 0 1 1 1 0 1 1 0 0 1 1 0 1 1 0 0 1 1 0 1 1 1 1 1 0\n",
      " 1 1 0 0 1 0 0 0 0 0 1 0 1 0 1 1 1 1 1 0 1 1 1 1 1 1 1 0 0 1 0 1 1 0 1 1 0\n",
      " 0 1 1 0 0 1 0 0 1 0 0 0 0 1]\n",
      "<class 'numpy.ndarray'>\n"
     ]
    },
    {
     "data": {
      "text/plain": [
       "<matplotlib.legend.Legend at 0x1cf3422b080>"
      ]
     },
     "execution_count": 77,
     "metadata": {},
     "output_type": "execute_result"
    },
    {
     "data": {
      "image/png": "[encoded data removed]",
      "text/plain": [
       "<Figure size 800x300 with 1 Axes>"
      ]
     },
     "metadata": {},
     "output_type": "display_data"
    }
   ],
   "source": [
    "input_string_1 = \"Hello, World!\"\n",
    "print(\"The String Representation is:\", input_string_1)\n",
    "\n",
    "binary_converted_1 = \"\".join(format(ord(c), \"b\") for c in input_string_1)\n",
    "print(\"binary_converted_1 is:\", binary_converted_1)\n",
    "print(type(binary_converted_1))\n",
    "\n",
    "#binary_converted_2 = \" \".join(binary_converted_1)\n",
    "#print(\"binary_converted_2 is:\", binary_converted_2)\n",
    "#print(type(binary_converted_2))\n",
    "\n",
    "#binary_converted_1_int = int(binary_converted_1)\n",
    "#print('binary_converted_1_int:', binary_converted_1_int)\n",
    "#print(type(binary_converted_1_int))\n",
    "\n",
    "binary_converted_1_int_list = [int(i) for i in binary_converted_1]\n",
    "print(binary_converted_1_int_list)\n",
    "print(type(binary_converted_1_int_list))\n",
    "\n",
    "binary_converted_1_ndarray = np.array(binary_converted_1_int_list)\n",
    "print(binary_converted_1_ndarray)\n",
    "print(type(binary_converted_1_ndarray))\n",
    "\n",
    "fig1 = plt.figure(figsize = (8,3), facecolor='lightblue')\n",
    "\n",
    "ax1_1 = fig1.add_subplot(1, 1, 1)\n",
    "ax1_1.stem(binary_converted_1_ndarray, \".-\", label = 'binary_converted_1_ndarray')\n",
    "ax1_1.legend()"
   ]
  },
  {
   "cell_type": "code",
   "execution_count": null,
   "metadata": {},
   "outputs": [
    {
     "name": "stdout",
     "output_type": "stream",
     "text": [
      "TX Analog values 1 : [1 1 1 ... 1 1 1]\n"
     ]
    },
    {
     "data": {
      "text/plain": [
       "[<matplotlib.lines.Line2D at 0x1cf3572aae0>]"
      ]
     },
     "execution_count": 78,
     "metadata": {},
     "output_type": "execute_result"
    },
    {
     "data": {
      "image/png": "[encoded data removed]",
      "text/plain": [
       "<Figure size 800x300 with 1 Axes>"
      ]
     },
     "metadata": {},
     "output_type": "display_data"
    }
   ],
   "source": [
    "# Convert Symbol to analog signal using 'repeat' function\n",
    "\n",
    "samplerate = 2 ** 10\n",
    "numberofpointspersymbol = 2 ** 6\n",
    "repetitions1 = samplerate / numberofpointspersymbol\n",
    "\n",
    "TX_analog_values1 = np.repeat(binary_converted_1_ndarray, repetitions1)\n",
    "\n",
    "print(f\"TX Analog values 1 : {TX_analog_values1}\")\n",
    "\n",
    "#TX_analog_float1 = [int(TX_analog_values1)]\n",
    "\n",
    "#print(TX_analog_float1)\n",
    "\n",
    "fig1 = plt.figure(figsize = (8,3), facecolor='lightblue')\n",
    "ax1_1 = fig1.add_subplot(1, 1, 1)\n",
    "ax1_1.plot(TX_analog_values1, \".-\")\n"
   ]
  },
  {
   "cell_type": "code",
   "execution_count": 79,
   "metadata": {},
   "outputs": [
    {
     "name": "stdout",
     "output_type": "stream",
     "text": [
      "['あ', 'い', 'う', 'え', 'お']\n",
      "['あ', 'い', 'う', 'え', 'お']\n"
     ]
    }
   ],
   "source": [
    "s = 'あいうえお'\n",
    "print(list(s)) \n",
    "print([i for i in s])"
   ]
  },
  {
   "cell_type": "code",
   "execution_count": 80,
   "metadata": {},
   "outputs": [
    {
     "name": "stdout",
     "output_type": "stream",
     "text": [
      "あいうえお\n",
      "あいうえお\n"
     ]
    }
   ],
   "source": [
    "print(''.join(['あ', 'い', 'う', 'え', 'お']))\n",
    "print(*['あ', 'い', 'う', 'え', 'お'], sep='')"
   ]
  },
  {
   "cell_type": "code",
   "execution_count": 81,
   "metadata": {},
   "outputs": [
    {
     "name": "stdout",
     "output_type": "stream",
     "text": [
      "12345\n",
      "12345\n"
     ]
    }
   ],
   "source": [
    "n = [1, 2, 3, 4, 5]\n",
    "print(''.join([str(i) for i in n]))\n",
    "print(*[str(i) for i in n], sep='')"
   ]
  }
 ],
 "metadata": {
  "kernelspec": {
   "display_name": "base",
   "language": "python",
   "name": "python3"
  },
  "language_info": {
   "codemirror_mode": {
    "name": "ipython",
    "version": 3
   },
   "file_extension": ".py",
   "mimetype": "text/x-python",
   "name": "python",
   "nbconvert_exporter": "python",
   "pygments_lexer": "ipython3",
   "version": "3.12.4"
  }
 },
 "nbformat": 4,
 "nbformat_minor": 2
}
